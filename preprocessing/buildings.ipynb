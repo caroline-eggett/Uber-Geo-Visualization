{
 "cells": [
  {
   "cell_type": "markdown",
   "metadata": {},
   "source": [
    "# Building Preprocessing"
   ]
  },
  {
   "cell_type": "code",
   "execution_count": 2,
   "metadata": {},
   "outputs": [],
   "source": [
    "import numpy as np\n",
    "import pandas as pd\n",
    "import json\n",
    "import geojson\n",
    "import shapely.wkt\n",
    "from tqdm.notebook import tqdm"
   ]
  },
  {
   "cell_type": "code",
   "execution_count": 3,
   "metadata": {},
   "outputs": [
    {
     "data": {
      "text/html": [
       "<div>\n",
       "<style scoped>\n",
       "    .dataframe tbody tr th:only-of-type {\n",
       "        vertical-align: middle;\n",
       "    }\n",
       "\n",
       "    .dataframe tbody tr th {\n",
       "        vertical-align: top;\n",
       "    }\n",
       "\n",
       "    .dataframe thead th {\n",
       "        text-align: right;\n",
       "    }\n",
       "</style>\n",
       "<table border=\"1\" class=\"dataframe\">\n",
       "  <thead>\n",
       "    <tr style=\"text-align: right;\">\n",
       "      <th></th>\n",
       "      <th>sf16_bldgid</th>\n",
       "      <th>area_id</th>\n",
       "      <th>mblr</th>\n",
       "      <th>p2010_name</th>\n",
       "      <th>p2010_zminn88ft</th>\n",
       "      <th>p2010_zmaxn88ft</th>\n",
       "      <th>gnd_cells50cm</th>\n",
       "      <th>gnd_mincm</th>\n",
       "      <th>gnd_maxcm</th>\n",
       "      <th>gnd_rangecm</th>\n",
       "      <th>...</th>\n",
       "      <th>hgt_majoritycm</th>\n",
       "      <th>hgt_minoritycm</th>\n",
       "      <th>hgt_mediancm</th>\n",
       "      <th>gnd_min_m</th>\n",
       "      <th>median_1st_m</th>\n",
       "      <th>hgt_median_m</th>\n",
       "      <th>gnd1st_delta</th>\n",
       "      <th>peak_1st_m</th>\n",
       "      <th>globalid</th>\n",
       "      <th>shape</th>\n",
       "    </tr>\n",
       "  </thead>\n",
       "  <tbody>\n",
       "    <tr>\n",
       "      <th>0</th>\n",
       "      <td>201006.0</td>\n",
       "      <td>1</td>\n",
       "      <td>SF4570025</td>\n",
       "      <td>SanfranF_4606.flt</td>\n",
       "      <td>16.3249</td>\n",
       "      <td>66.2671</td>\n",
       "      <td>178250</td>\n",
       "      <td>507</td>\n",
       "      <td>704</td>\n",
       "      <td>197</td>\n",
       "      <td>...</td>\n",
       "      <td>813</td>\n",
       "      <td>349</td>\n",
       "      <td>850</td>\n",
       "      <td>5.07</td>\n",
       "      <td>14.16</td>\n",
       "      <td>8.50</td>\n",
       "      <td>9.09</td>\n",
       "      <td>23.85</td>\n",
       "      <td>{CF7EF595-68E6-4950-B361-CC82D77383A0}</td>\n",
       "      <td>MULTIPOLYGON (((-122.37950387699999 37.7397994...</td>\n",
       "    </tr>\n",
       "    <tr>\n",
       "      <th>1</th>\n",
       "      <td>201006.0</td>\n",
       "      <td>2</td>\n",
       "      <td>SM005050270</td>\n",
       "      <td>SanfranI_09417.flt</td>\n",
       "      <td>81.7802</td>\n",
       "      <td>214.1874</td>\n",
       "      <td>144111</td>\n",
       "      <td>2515</td>\n",
       "      <td>3419</td>\n",
       "      <td>904</td>\n",
       "      <td>...</td>\n",
       "      <td>737</td>\n",
       "      <td>11</td>\n",
       "      <td>735</td>\n",
       "      <td>25.15</td>\n",
       "      <td>39.25</td>\n",
       "      <td>7.35</td>\n",
       "      <td>14.10</td>\n",
       "      <td>66.94</td>\n",
       "      <td>{806F8EDB-7B25-4054-898E-6F2CF65D072E}</td>\n",
       "      <td>MULTIPOLYGON (((-122.41894297800002 37.7076482...</td>\n",
       "    </tr>\n",
       "    <tr>\n",
       "      <th>2</th>\n",
       "      <td>201006.0</td>\n",
       "      <td>3</td>\n",
       "      <td>SF3794028</td>\n",
       "      <td>Sanfran_Orig_1330.flt</td>\n",
       "      <td>12.5027</td>\n",
       "      <td>102.5737</td>\n",
       "      <td>115295</td>\n",
       "      <td>164</td>\n",
       "      <td>507</td>\n",
       "      <td>343</td>\n",
       "      <td>...</td>\n",
       "      <td>734</td>\n",
       "      <td>-86</td>\n",
       "      <td>1157</td>\n",
       "      <td>1.64</td>\n",
       "      <td>15.29</td>\n",
       "      <td>11.57</td>\n",
       "      <td>13.65</td>\n",
       "      <td>59.18</td>\n",
       "      <td>{F0F234CF-3F0B-439D-B59A-8899C2135F23}</td>\n",
       "      <td>MULTIPOLYGON (((-122.38881976200003 37.7792352...</td>\n",
       "    </tr>\n",
       "    <tr>\n",
       "      <th>3</th>\n",
       "      <td>201006.0</td>\n",
       "      <td>4</td>\n",
       "      <td>SF7295021</td>\n",
       "      <td>NaN</td>\n",
       "      <td>NaN</td>\n",
       "      <td>NaN</td>\n",
       "      <td>107634</td>\n",
       "      <td>4346</td>\n",
       "      <td>5185</td>\n",
       "      <td>839</td>\n",
       "      <td>...</td>\n",
       "      <td>1078</td>\n",
       "      <td>16</td>\n",
       "      <td>1153</td>\n",
       "      <td>43.46</td>\n",
       "      <td>61.58</td>\n",
       "      <td>11.53</td>\n",
       "      <td>18.12</td>\n",
       "      <td>69.72</td>\n",
       "      <td>{C52C089C-B0A6-4716-8358-C568A65861DC}</td>\n",
       "      <td>MULTIPOLYGON (((-122.47734992300002 37.7289024...</td>\n",
       "    </tr>\n",
       "    <tr>\n",
       "      <th>4</th>\n",
       "      <td>201006.0</td>\n",
       "      <td>5</td>\n",
       "      <td>SF9900015</td>\n",
       "      <td>Sanfran_Orig_0311.flt</td>\n",
       "      <td>9.1163</td>\n",
       "      <td>57.9121</td>\n",
       "      <td>102761</td>\n",
       "      <td>81</td>\n",
       "      <td>422</td>\n",
       "      <td>341</td>\n",
       "      <td>...</td>\n",
       "      <td>1046</td>\n",
       "      <td>19</td>\n",
       "      <td>990</td>\n",
       "      <td>0.81</td>\n",
       "      <td>11.51</td>\n",
       "      <td>9.90</td>\n",
       "      <td>10.70</td>\n",
       "      <td>19.26</td>\n",
       "      <td>{EF68C9FB-598E-44B7-88FF-0B60B08CD896}</td>\n",
       "      <td>MULTIPOLYGON (((-122.396861435 37.802649239999...</td>\n",
       "    </tr>\n",
       "  </tbody>\n",
       "</table>\n",
       "<p>5 rows × 43 columns</p>\n",
       "</div>"
      ],
      "text/plain": [
       "   sf16_bldgid  area_id         mblr             p2010_name  p2010_zminn88ft  \\\n",
       "0     201006.0        1    SF4570025      SanfranF_4606.flt          16.3249   \n",
       "1     201006.0        2  SM005050270     SanfranI_09417.flt          81.7802   \n",
       "2     201006.0        3    SF3794028  Sanfran_Orig_1330.flt          12.5027   \n",
       "3     201006.0        4    SF7295021                    NaN              NaN   \n",
       "4     201006.0        5    SF9900015  Sanfran_Orig_0311.flt           9.1163   \n",
       "\n",
       "   p2010_zmaxn88ft  gnd_cells50cm  gnd_mincm  gnd_maxcm  gnd_rangecm  ...  \\\n",
       "0          66.2671         178250        507        704          197  ...   \n",
       "1         214.1874         144111       2515       3419          904  ...   \n",
       "2         102.5737         115295        164        507          343  ...   \n",
       "3              NaN         107634       4346       5185          839  ...   \n",
       "4          57.9121         102761         81        422          341  ...   \n",
       "\n",
       "   hgt_majoritycm  hgt_minoritycm  hgt_mediancm  gnd_min_m  median_1st_m  \\\n",
       "0             813             349           850       5.07         14.16   \n",
       "1             737              11           735      25.15         39.25   \n",
       "2             734             -86          1157       1.64         15.29   \n",
       "3            1078              16          1153      43.46         61.58   \n",
       "4            1046              19           990       0.81         11.51   \n",
       "\n",
       "   hgt_median_m  gnd1st_delta  peak_1st_m  \\\n",
       "0          8.50          9.09       23.85   \n",
       "1          7.35         14.10       66.94   \n",
       "2         11.57         13.65       59.18   \n",
       "3         11.53         18.12       69.72   \n",
       "4          9.90         10.70       19.26   \n",
       "\n",
       "                                 globalid  \\\n",
       "0  {CF7EF595-68E6-4950-B361-CC82D77383A0}   \n",
       "1  {806F8EDB-7B25-4054-898E-6F2CF65D072E}   \n",
       "2  {F0F234CF-3F0B-439D-B59A-8899C2135F23}   \n",
       "3  {C52C089C-B0A6-4716-8358-C568A65861DC}   \n",
       "4  {EF68C9FB-598E-44B7-88FF-0B60B08CD896}   \n",
       "\n",
       "                                               shape  \n",
       "0  MULTIPOLYGON (((-122.37950387699999 37.7397994...  \n",
       "1  MULTIPOLYGON (((-122.41894297800002 37.7076482...  \n",
       "2  MULTIPOLYGON (((-122.38881976200003 37.7792352...  \n",
       "3  MULTIPOLYGON (((-122.47734992300002 37.7289024...  \n",
       "4  MULTIPOLYGON (((-122.396861435 37.802649239999...  \n",
       "\n",
       "[5 rows x 43 columns]"
      ]
     },
     "execution_count": 3,
     "metadata": {},
     "output_type": "execute_result"
    }
   ],
   "source": [
    "df = pd.read_csv('../data-files/Building_Footprints.csv')\n",
    "df.head()"
   ]
  },
  {
   "cell_type": "code",
   "execution_count": 4,
   "metadata": {},
   "outputs": [
    {
     "name": "stderr",
     "output_type": "stream",
     "text": [
      "C:\\Users\\carol\\AppData\\Local\\Temp/ipykernel_13604/2399742966.py:1: FutureWarning: In a future version of pandas all arguments of DataFrame.drop except for the argument 'labels' will be keyword-only\n",
      "  df1 = df.drop(df.columns.difference(['hgt_median_m','shape']), 1)\n"
     ]
    }
   ],
   "source": [
    "df1 = df.drop(df.columns.difference(['hgt_median_m','shape']), 1)\n"
   ]
  },
  {
   "cell_type": "code",
   "execution_count": 5,
   "metadata": {},
   "outputs": [
    {
     "name": "stdout",
     "output_type": "stream",
     "text": [
      "hgt_median_m    float64\n",
      "shape            object\n",
      "dtype: object\n"
     ]
    },
    {
     "data": {
      "text/html": [
       "<div>\n",
       "<style scoped>\n",
       "    .dataframe tbody tr th:only-of-type {\n",
       "        vertical-align: middle;\n",
       "    }\n",
       "\n",
       "    .dataframe tbody tr th {\n",
       "        vertical-align: top;\n",
       "    }\n",
       "\n",
       "    .dataframe thead th {\n",
       "        text-align: right;\n",
       "    }\n",
       "</style>\n",
       "<table border=\"1\" class=\"dataframe\">\n",
       "  <thead>\n",
       "    <tr style=\"text-align: right;\">\n",
       "      <th></th>\n",
       "      <th>hgt_median_m</th>\n",
       "      <th>shape</th>\n",
       "    </tr>\n",
       "  </thead>\n",
       "  <tbody>\n",
       "    <tr>\n",
       "      <th>0</th>\n",
       "      <td>8.50</td>\n",
       "      <td>MULTIPOLYGON (((-122.37950387699999 37.7397994...</td>\n",
       "    </tr>\n",
       "    <tr>\n",
       "      <th>1</th>\n",
       "      <td>7.35</td>\n",
       "      <td>MULTIPOLYGON (((-122.41894297800002 37.7076482...</td>\n",
       "    </tr>\n",
       "    <tr>\n",
       "      <th>2</th>\n",
       "      <td>11.57</td>\n",
       "      <td>MULTIPOLYGON (((-122.38881976200003 37.7792352...</td>\n",
       "    </tr>\n",
       "    <tr>\n",
       "      <th>3</th>\n",
       "      <td>11.53</td>\n",
       "      <td>MULTIPOLYGON (((-122.47734992300002 37.7289024...</td>\n",
       "    </tr>\n",
       "    <tr>\n",
       "      <th>4</th>\n",
       "      <td>9.90</td>\n",
       "      <td>MULTIPOLYGON (((-122.396861435 37.802649239999...</td>\n",
       "    </tr>\n",
       "  </tbody>\n",
       "</table>\n",
       "</div>"
      ],
      "text/plain": [
       "   hgt_median_m                                              shape\n",
       "0          8.50  MULTIPOLYGON (((-122.37950387699999 37.7397994...\n",
       "1          7.35  MULTIPOLYGON (((-122.41894297800002 37.7076482...\n",
       "2         11.57  MULTIPOLYGON (((-122.38881976200003 37.7792352...\n",
       "3         11.53  MULTIPOLYGON (((-122.47734992300002 37.7289024...\n",
       "4          9.90  MULTIPOLYGON (((-122.396861435 37.802649239999..."
      ]
     },
     "execution_count": 5,
     "metadata": {},
     "output_type": "execute_result"
    }
   ],
   "source": [
    "df1['shape'] = df1['shape'].astype('str')\n",
    "print(df1.dtypes)\n",
    "df1.head()"
   ]
  },
  {
   "cell_type": "code",
   "execution_count": 6,
   "metadata": {},
   "outputs": [
    {
     "name": "stdout",
     "output_type": "stream",
     "text": [
      "{\"coordinates\": [[[[-122.379504, 37.739799], [-122.379511, 37.739791], [-122.379511, 37.739791], [-122.379422, 37.739743], [-122.379422, 37.739742], [-122.380347, 37.738716], [-122.380433, 37.738766], [-122.38044, 37.738757], [-122.380471, 37.738775], [-122.380482, 37.738762], [-122.382741, 37.740043], [-122.382741, 37.740043], [-122.382727, 37.740059], [-122.382815, 37.740106], [-122.382815, 37.740106], [-122.382559, 37.740392], [-122.382542, 37.740383], [-122.382535, 37.740391], [-122.382497, 37.74043], [-122.382516, 37.74044], [-122.382516, 37.740441], [-122.382076, 37.74093], [-122.382058, 37.74092], [-122.381672, 37.741348], [-122.381388, 37.741188], [-122.38133, 37.741195], [-122.381289, 37.741172], [-122.381289, 37.741172], [-122.381344, 37.741109], [-122.379374, 37.739994], [-122.379456, 37.739905], [-122.379491, 37.739866], [-122.379463, 37.73985], [-122.379463, 37.73985], [-122.379504, 37.739799]]]], \"type\": \"MultiPolygon\"}\n"
     ]
    }
   ],
   "source": [
    "s = 'MULTIPOLYGON (((-122.37950387699999 37.73979945100001, -122.37951078200001 37.739791380999975, -122.37951088699998 37.739791260000004, -122.37942182299997 37.739742509999985, -122.37942180599998 37.73974246400002, -122.38034652099998 37.73871573500003, -122.38043307999999 37.73876573000001, -122.38044047900001 37.73875702700002, -122.38047090999999 37.738775042999976, -122.380482481 37.73876211999999, -122.38274123999997 37.74004335000001, -122.38274126300001 37.740043420999996, -122.38272735599998 37.740058594000004, -122.38281530699999 37.74010609700002, -122.38281534200001 37.740106208999975, -122.38255868700003 37.740391794999994, -122.382542328 37.74038284699998, -122.38253457500002 37.74039098200001, -122.382497263 37.74043014, -122.38251599 37.740440433, -122.38251602600002 37.74044054400002, -122.382075531 37.74092975000002, -122.38205777299999 37.74091976599999, -122.38167157499998 37.74134788800001, -122.381388389 37.74118806400003, -122.38133037 37.74119490300001, -122.38128900700002 37.741171742999995, -122.38128896 37.74117160700001, -122.38134406299997 37.74110932299999, -122.379374429 37.739994122999974, -122.37945644299998 37.73990475400001, -122.37949122200001 37.73986609299999, -122.37946334200001 37.73985024699999, -122.37946330400001 37.739850144, -122.37950387699999 37.73979945100001)))'\n",
    "\n",
    "g1 = shapely.wkt.loads(s)\n",
    "g2 = geojson.Feature(geometry=g1, properties={})\n",
    "print(g2.geometry)"
   ]
  },
  {
   "cell_type": "code",
   "execution_count": 7,
   "metadata": {},
   "outputs": [
    {
     "name": "stdout",
     "output_type": "stream",
     "text": [
      "13872\n"
     ]
    }
   ],
   "source": [
    "polygons = []\n",
    "heights = []\n",
    "center_lat = 37.787321\n",
    "center_long = -122.407607\n",
    "for i in range(len(df1[\"shape\"])):\n",
    "# for i in range(0, len(df1[\"shape\"].values), 5):\n",
    "    shape = df1[\"shape\"].values[i]\n",
    "    height = df1[\"hgt_median_m\"].values[i]\n",
    "    g1 = shapely.wkt.loads(str(shape))\n",
    "    g2 = geojson.Feature(geometry=g1, properties={})\n",
    "    polygon = g2.geometry.coordinates[0][0]\n",
    "    # print(polygon)\n",
    "    \n",
    "    if abs(polygon[0][0] - center_long) <= .02 and abs(polygon[0][1] - center_lat) <= .02:\n",
    "        #print(\"passed!\")\n",
    "        #print(\"polygon[0][0]: \", polygon[0][0])\n",
    "        #print(\"polygon[0][1]: \", polygon[0][1])\n",
    "        polygons.append(polygon) \n",
    "        heights.append(height)\n",
    "\n",
    "scaled_heights = [] \n",
    "for height in heights:\n",
    "    scaled_heights.append(height * 3)\n",
    "\n",
    "outputobj = [] \n",
    "for i in range(len(polygons)): \n",
    "    outputobj.append({ \"polygon\": polygons[i], \"height\": scaled_heights[i] })\n",
    "\n",
    "print(len(outputobj))\n",
    "with open(\"../trips/buildings.json\", \"w\") as file:\n",
    "    file.write(json.dumps(outputobj))\n"
   ]
  },
  {
   "cell_type": "code",
   "execution_count": 8,
   "metadata": {},
   "outputs": [
    {
     "data": {
      "application/vnd.jupyter.widget-view+json": {
       "model_id": "417218e507494a8482d47c6a8b3e7ce0",
       "version_major": 2,
       "version_minor": 0
      },
      "text/plain": [
       "  0%|          | 0/177023 [00:00<?, ?it/s]"
      ]
     },
     "metadata": {},
     "output_type": "display_data"
    }
   ],
   "source": [
    "data = []\n",
    "for record in tqdm(range(len(df1)), smoothing=.01):\n",
    "    s = str(df1.iloc[record,1])\n",
    "    g1 = shapely.wkt.loads(s)\n",
    "    g2 = geojson.Feature(geometry=g1, properties={})\n",
    "    info = g2.geometry\n",
    "    data.append(info)\n",
    "\n"
   ]
  },
  {
   "cell_type": "code",
   "execution_count": null,
   "metadata": {},
   "outputs": [],
   "source": [
    "with open(\"../trips/buildings.json\", \"w\") as file:\n",
    "    for elem in tqdm(data):\n",
    "        file.write(elem)\n",
    "        file.write(\"\\n\")\n",
    "    # file.write(json.dumps(data))\n",
    "\n",
    "    "
   ]
  }
 ],
 "metadata": {
  "interpreter": {
   "hash": "b63c0f6618d7d0056e948ec4a7ecb721abc665b27ed524c57a909a57a756e9f9"
  },
  "kernelspec": {
   "display_name": "Python 3.10.0 64-bit",
   "language": "python",
   "name": "python3"
  },
  "language_info": {
   "codemirror_mode": {
    "name": "ipython",
    "version": 3
   },
   "file_extension": ".py",
   "mimetype": "text/x-python",
   "name": "python",
   "nbconvert_exporter": "python",
   "pygments_lexer": "ipython3",
   "version": "3.10.0"
  },
  "orig_nbformat": 4
 },
 "nbformat": 4,
 "nbformat_minor": 2
}
