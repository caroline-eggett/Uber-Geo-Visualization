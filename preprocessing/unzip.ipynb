{
 "cells": [
  {
   "cell_type": "code",
   "execution_count": 81,
   "metadata": {},
   "outputs": [
    {
     "data": {
      "text/plain": [
       "'\\n# importing the \"tarfile\" module\\nimport tarfile\\n  \\n# open file\\nfile = tarfile.open(\\'cabspottingdata.tar.gz\\')\\n  \\n# extracting file\\nfile.extractall(\\'./preprocessing\\')\\n  \\nfile.close()\\n'"
      ]
     },
     "execution_count": 81,
     "metadata": {},
     "output_type": "execute_result"
    }
   ],
   "source": [
    "'''\n",
    "# importing the \"tarfile\" module\n",
    "import tarfile\n",
    "  \n",
    "# open file\n",
    "file = tarfile.open('cabspottingdata.tar.gz')\n",
    "  \n",
    "# extracting file\n",
    "file.extractall('./preprocessing')\n",
    "  \n",
    "file.close()\n",
    "'''"
   ]
  },
  {
   "cell_type": "code",
   "execution_count": 82,
   "metadata": {},
   "outputs": [],
   "source": [
    "# Read Text Files with Pandas using read_csv()\n",
    "  \n",
    "# importing pandas\n",
    "import pandas as pd\n",
    "  \n",
    "import glob\n",
    "taxis = []\n",
    "files = glob.glob(\"./cabspottingdata/new_*.txt\")\n",
    "for file in files:\n",
    "    df = pd.read_csv(file, sep=\" \", header=None, names=[\"Latitude\", \"Longitude\", \"Fare\", \"Timestamp\"], dtype=None)\n",
    "    df.drop(labels='Fare', axis=1, inplace=True)\n",
    "    df['Timestamp'] = df['Timestamp'].astype(float)\n",
    "    taxis.append(df)"
   ]
  },
  {
   "cell_type": "code",
   "execution_count": 83,
   "metadata": {},
   "outputs": [],
   "source": [
    "# Transform from unix timestamp to time since start of simulation\n",
    "minTime = taxis[0][\"Timestamp\"].min()\n",
    "\n",
    "# print(\"taxis[0].head()\", taxis[0].head())\n",
    "# print(\"minTime: \", minTime)\n",
    "for df in taxis:\n",
    "    # print(\"minTime: \", minTime)\n",
    "    # print(\"minTime: \", minTime)\n",
    "    # print(\"df[\\\"Timestamp\\\"].min()\", df[\"Timestamp\"].min())\n",
    "    minTime = min(minTime, df[\"Timestamp\"].min())\n",
    "# print(f\"minTime: {minTime}\")\n",
    "\n",
    "for df in taxis:\n",
    "    df['Timestamp'] = df['Timestamp'].apply(lambda x: x - minTime) # 1210982400)\n"
   ]
  },
  {
   "cell_type": "code",
   "execution_count": 84,
   "metadata": {},
   "outputs": [
    {
     "data": {
      "application/vnd.jupyter.widget-view+json": {
       "model_id": "4ce8213cfc3543b5a4c2a95cc038b2af",
       "version_major": 2,
       "version_minor": 0
      },
      "text/plain": [
       "Iterating through taxis:   0%|          | 0/536 [00:00<?, ?it/s]"
      ]
     },
     "metadata": {},
     "output_type": "display_data"
    }
   ],
   "source": [
    "positions = []\n",
    "timestamps = []\n",
    "\n",
    "from tqdm.notebook import tqdm \n",
    "for taxi in tqdm(taxis, desc=\"Iterating through taxis: \"):\n",
    "    this_taxi_positions = []\n",
    "    this_taxi_timestamps = []\n",
    "    for i in range(len(taxi)):\n",
    "        this_taxi_positions.append([taxi[\"Longitude\"][i], taxi[\"Latitude\"][i]])\n",
    "        this_taxi_timestamps.append(taxi[\"Timestamp\"][i])\n",
    "    positions.append(this_taxi_positions)\n",
    "    timestamps.append(this_taxi_timestamps[::-1])\n",
    "positions = list(map(lambda elem: elem[:50], positions))\n",
    "timestamps = list(map(lambda elem: elem[:50], timestamps))"
   ]
  },
  {
   "cell_type": "code",
   "execution_count": 85,
   "metadata": {},
   "outputs": [],
   "source": [
    "outputobj = [] \n",
    "currentVendor = 0\n",
    "for i in range(len(positions)):\n",
    "    outputobj.append({ \"vendor\": currentVendor, \"path\": positions[i], \"timestamps\": timestamps[i] })\n",
    "    currentVendor = (currentVendor + 1) % 3"
   ]
  },
  {
   "cell_type": "code",
   "execution_count": 86,
   "metadata": {},
   "outputs": [
    {
     "name": "stdout",
     "output_type": "stream",
     "text": [
      "536\n"
     ]
    }
   ],
   "source": [
    "import json\n",
    "\n",
    "print(len(outputobj))\n",
    "with open(\"../trips/taxis.json\", \"w\") as file:\n",
    "    file.write(json.dumps(outputobj))"
   ]
  }
 ],
 "metadata": {
  "interpreter": {
   "hash": "b63c0f6618d7d0056e948ec4a7ecb721abc665b27ed524c57a909a57a756e9f9"
  },
  "kernelspec": {
   "display_name": "Python 3.10.0 64-bit",
   "language": "python",
   "name": "python3"
  },
  "language_info": {
   "codemirror_mode": {
    "name": "ipython",
    "version": 3
   },
   "file_extension": ".py",
   "mimetype": "text/x-python",
   "name": "python",
   "nbconvert_exporter": "python",
   "pygments_lexer": "ipython3",
   "version": "3.10.0"
  },
  "orig_nbformat": 4
 },
 "nbformat": 4,
 "nbformat_minor": 2
}
